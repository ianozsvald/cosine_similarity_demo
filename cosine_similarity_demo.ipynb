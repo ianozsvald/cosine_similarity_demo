{
 "cells": [
  {
   "cell_type": "markdown",
   "metadata": {},
   "source": [
    "# Cosine Similarity Demo\n",
    "\n",
    "Implement the cosine similarity metric and show some vector examples:\n",
    "\n",
    "https://en.wikipedia.org/wiki/Cosine_similarity\n",
    "\n",
    "<img src=\"https://upload.wikimedia.org/math/f/3/6/f369863aa2814d6e283f859986a1574d.png\">\n",
    "\n",
    "cos_sim(a, b) gives us a measure of similarity from 0 to 1, 0 means the measure is orthogonal (not related), 1 is totally-similar. For positive inputs the similarity measure is always in the range [0, 1].\n",
    "\n",
    "One degenerative case is the all-0s vector (e.g. a==[0, 0, ..., 0]). In this case the 'similarity' is NaN. This similarity measure is not used for all-0s inputs, you use it when you have at least one binary element set to True.\n",
    "\n",
    "Note also that Cos Sim is not a true distance metric, it is a similarity metric. It doesn't obey some of the requirements (it doesn't have the triangle inequality property: https://en.wikipedia.org/wiki/Metric_%28mathematics%29 nor some other requirements).\n",
    "\n",
    "It is commonly used because it is terribly quick to calculate and has a set of useful properties for similarity measurement."
   ]
  },
  {
   "cell_type": "code",
   "execution_count": 126,
   "metadata": {
    "collapsed": true
   },
   "outputs": [],
   "source": [
    "import numpy as np\n",
    "\n",
    "def cos_sim(a, b):\n",
    "    \"\"\"a and b are equal length 1D vectors\"\"\"\n",
    "    sqrt = np.sqrt\n",
    "    dot = np.dot\n",
    "    # note dot product for dot(a,b) == (a*b).sum()\n",
    "    numerator = np.dot(a, b)  # same as: (a*b).sum()\n",
    "    divisor = sqrt(dot(a, a)) * sqrt(dot(b, b)) \n",
    "    if divisor == 0:\n",
    "        divisor=1  # avoid divide-by-zero errors\n",
    "    return numerator / divisor"
   ]
  },
  {
   "cell_type": "code",
   "execution_count": 145,
   "metadata": {
    "collapsed": true
   },
   "outputs": [],
   "source": [
    "# example 1D vectors\n",
    "v1 = np.array([0, 0, 1])\n",
    "v2 = np.array([0, 1, 1])\n",
    "v3 = np.array([1, 1, 1])\n",
    "v4 = np.array([1, 0, 0])"
   ]
  },
  {
   "cell_type": "code",
   "execution_count": 146,
   "metadata": {
    "collapsed": false
   },
   "outputs": [
    {
     "name": "stdout",
     "output_type": "stream",
     "text": [
      "Opposite binary items [0 1 1] [1 0 0]: 0.0\n",
      "Less similar binary items [0 0 1] [1 1 1]: 0.57735026919\n",
      "More similar binary items [0 1 1] [1 1 1]: 0.816496580928\n",
      "Same binary items [0 0 1] [0 0 1]: 1.0\n",
      "Same binary items [0 1 1] [0 1 1]: 1.0\n"
     ]
    }
   ],
   "source": [
    "print(\"Opposite binary items {} {}:\".format(v2, v4), cos_sim(v2, v4))\n",
    "print(\"Less similar binary items {} {}:\".format(v1, v3), cos_sim(v1, v3))\n",
    "print(\"More similar binary items {} {}:\".format(v2, v3), cos_sim(v2, v3))\n",
    "print(\"Same binary items {} {}:\".format(v1, v1), cos_sim(v1, v1))\n",
    "print(\"Same binary items {} {}:\".format(v2, v2), cos_sim(v2, v2))\n"
   ]
  },
  {
   "cell_type": "code",
   "execution_count": 147,
   "metadata": {
    "collapsed": false
   },
   "outputs": [],
   "source": [
    "# For validation you could compare with scikit learn's cosine *distance* (where distance is 1-score)\n",
    "import sklearn.metrics\n",
    "cos_sim_sklearn = sklearn.metrics.pairwise.cosine_similarity\n",
    "result_v1_v1 = cos_sim_sklearn(v1, v1)\n",
    "result_v1_v2 = cos_sim_sklearn(v1, v2)\n",
    "result_v1_v3 = cos_sim_sklearn(v1, v3)\n",
    "\n",
    "assert result_v1_v1 == cos_sim(v1, v1)\n",
    "assert result_v1_v2 == cos_sim(v1, v2)\n",
    "assert result_v1_v3 == cos_sim(v1, v3)"
   ]
  },
  {
   "cell_type": "code",
   "execution_count": 148,
   "metadata": {
    "collapsed": false
   },
   "outputs": [
    {
     "data": {
      "text/plain": [
       "-0.70710678118654746"
      ]
     },
     "execution_count": 148,
     "metadata": {},
     "output_type": "execute_result"
    }
   ],
   "source": [
    "# For negative inputs you'll get a negative result in the range [-1, 1] \n",
    "v1_neg = np.array([0, -1, -1])\n",
    "cos_sim(v1, v1_neg)"
   ]
  },
  {
   "cell_type": "code",
   "execution_count": 149,
   "metadata": {
    "collapsed": false
   },
   "outputs": [
    {
     "data": {
      "text/plain": [
       "-1.0000000000000002"
      ]
     },
     "execution_count": 149,
     "metadata": {},
     "output_type": "execute_result"
    }
   ],
   "source": [
    "# For totally opposite results you'll get -1\n",
    "v3_neg = np.array([-1, -1, -1])\n",
    "cos_sim(v3, v3_neg)"
   ]
  }
 ],
 "metadata": {
  "kernelspec": {
   "display_name": "Python 3",
   "language": "python",
   "name": "python3"
  },
  "language_info": {
   "codemirror_mode": {
    "name": "ipython",
    "version": 3
   },
   "file_extension": ".py",
   "mimetype": "text/x-python",
   "name": "python",
   "nbconvert_exporter": "python",
   "pygments_lexer": "ipython3",
   "version": "3.4.3"
  }
 },
 "nbformat": 4,
 "nbformat_minor": 0
}
